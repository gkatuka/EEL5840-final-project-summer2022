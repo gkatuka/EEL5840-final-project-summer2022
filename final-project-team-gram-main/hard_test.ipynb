{
 "cells": [
  {
   "cell_type": "code",
   "execution_count": 1,
   "id": "d32dc5e7",
   "metadata": {},
   "outputs": [],
   "source": [
    "#functions:\n",
    "import numpy as np\n",
    "import numpy.random as npr\n",
    "import matplotlib.pyplot as plt\n",
    "%matplotlib inline\n",
    "import tensorflow as tf\n",
    "from tensorflow import keras\n",
    "plt.style.use('bmh')\n",
    "\n",
    "def hard_test(X_full, t_full):\n",
    "    #class name\n",
    "    class_names = ['Stop',\n",
    "                   'Yield',\n",
    "                   'Red Light',\n",
    "                   'Green Light',\n",
    "                   'Roundabout',\n",
    "                   'Right Turn Only',\n",
    "                   'Do Not Enter',\n",
    "                   'Crosswalk',\n",
    "                   'Handicap Parking',\n",
    "                   'No Parking',\n",
    "                   'Unknown ']\n",
    "\n",
    "    model = keras.models.load_model('TF_model.h5')\n",
    "    # model.summary()\n",
    "\n",
    "    #load data\n",
    "    X_mix = X_full\n",
    "    t_mix = t_full\n",
    "\n",
    "    X_mix = X_mix.T\n",
    "\n",
    "    # cast np to tensorflow\n",
    "    X_mix_rs = tf.constant(X_mix.reshape((X_mix.shape[0],300,300,3)),\n",
    "                             dtype = tf.float32)\n",
    "\n",
    "\n",
    "\n",
    "    predict_value = model.predict(X_mix_rs)\n",
    "\n",
    "    # Do judgement of unknown class\n",
    "    threshold = 0.95\n",
    "    predict_label = np.zeros(np.size(predict_value,axis=0))\n",
    "    for i in range(np.size(predict_value,axis=0)):\n",
    "        if (np.max(predict_value[i])<threshold):\n",
    "            predict_label[i] = -1;\n",
    "        if (np.max(predict_value[i])>=threshold):\n",
    "            predict_label[i] = np.argmax(predict_value[i])\n",
    "\n",
    "    from sklearn.metrics import classification_report\n",
    "\n",
    "    print(classification_report(t_mix, predict_label, target_names=class_names))\n",
    "    print(predict_label)\n",
    "    return predict_label"
   ]
  },
  {
   "cell_type": "code",
   "execution_count": 3,
   "id": "cf9ac362",
   "metadata": {},
   "outputs": [
    {
     "name": "stdout",
     "output_type": "stream",
     "text": [
      "(270000, 30) (30,)\n",
      "1/1 [==============================] - 3s 3s/step\n",
      "                  precision    recall  f1-score   support\n",
      "\n",
      "            Stop       1.00      1.00      1.00         3\n",
      "           Yield       1.00      0.67      0.80         6\n",
      "       Red Light       1.00      0.67      0.80         3\n",
      "     Green Light       1.00      1.00      1.00         4\n",
      "      Roundabout       0.00      0.00      0.00         1\n",
      " Right Turn Only       1.00      1.00      1.00         3\n",
      "    Do Not Enter       1.00      1.00      1.00         4\n",
      "       Crosswalk       1.00      0.67      0.80         3\n",
      "Handicap Parking       1.00      1.00      1.00         1\n",
      "      No Parking       1.00      1.00      1.00         2\n",
      "        Unknown        0.00      0.00      0.00         0\n",
      "\n",
      "        accuracy                           0.83        30\n",
      "       macro avg       0.82      0.73      0.76        30\n",
      "    weighted avg       0.97      0.83      0.89        30\n",
      "\n",
      "[ 9.  5. 10.  6.  1.  2.  0.  6. 10.  1.  8.  6.  3.  3.  7.  6. 10.  7.\n",
      "  2.  5. 10.  1.  1.  3.  3.  9.  0. 10.  0.  5.]\n"
     ]
    },
    {
     "name": "stderr",
     "output_type": "stream",
     "text": [
      "C:\\Users\\Owner\\anaconda3\\lib\\site-packages\\sklearn\\metrics\\_classification.py:1327: UndefinedMetricWarning: Precision and F-score are ill-defined and being set to 0.0 in labels with no predicted samples. Use `zero_division` parameter to control this behavior.\n",
      "  _warn_prf(average, modifier, msg_start, len(result))\n",
      "C:\\Users\\Owner\\anaconda3\\lib\\site-packages\\sklearn\\metrics\\_classification.py:1327: UndefinedMetricWarning: Recall and F-score are ill-defined and being set to 0.0 in labels with no true samples. Use `zero_division` parameter to control this behavior.\n",
      "  _warn_prf(average, modifier, msg_start, len(result))\n",
      "C:\\Users\\Owner\\anaconda3\\lib\\site-packages\\sklearn\\metrics\\_classification.py:1327: UndefinedMetricWarning: Precision and F-score are ill-defined and being set to 0.0 in labels with no predicted samples. Use `zero_division` parameter to control this behavior.\n",
      "  _warn_prf(average, modifier, msg_start, len(result))\n",
      "C:\\Users\\Owner\\anaconda3\\lib\\site-packages\\sklearn\\metrics\\_classification.py:1327: UndefinedMetricWarning: Recall and F-score are ill-defined and being set to 0.0 in labels with no true samples. Use `zero_division` parameter to control this behavior.\n",
      "  _warn_prf(average, modifier, msg_start, len(result))\n",
      "C:\\Users\\Owner\\anaconda3\\lib\\site-packages\\sklearn\\metrics\\_classification.py:1327: UndefinedMetricWarning: Precision and F-score are ill-defined and being set to 0.0 in labels with no predicted samples. Use `zero_division` parameter to control this behavior.\n",
      "  _warn_prf(average, modifier, msg_start, len(result))\n",
      "C:\\Users\\Owner\\anaconda3\\lib\\site-packages\\sklearn\\metrics\\_classification.py:1327: UndefinedMetricWarning: Recall and F-score are ill-defined and being set to 0.0 in labels with no true samples. Use `zero_division` parameter to control this behavior.\n",
      "  _warn_prf(average, modifier, msg_start, len(result))\n"
     ]
    }
   ],
   "source": [
    "#load data\n",
    "X_full = np.load('data_train.npy')\n",
    "t_full = np.load('labels_train.npy')\n",
    "\n",
    "X_subset = X_full.T[0:30]\n",
    "t_subset = t_full[0:30]\n",
    "\n",
    "X_subset = X_subset.T\n",
    "\n",
    "print(X_subset.shape, t_subset.shape)\n",
    "hard_test(X_subset, t_subset)"
   ]
  },
  {
   "cell_type": "code",
   "execution_count": null,
   "id": "9b329bdc",
   "metadata": {},
   "outputs": [],
   "source": []
  }
 ],
 "metadata": {
  "kernelspec": {
   "display_name": "Python 3 (ipykernel)",
   "language": "python",
   "name": "python3"
  },
  "language_info": {
   "codemirror_mode": {
    "name": "ipython",
    "version": 3
   },
   "file_extension": ".py",
   "mimetype": "text/x-python",
   "name": "python",
   "nbconvert_exporter": "python",
   "pygments_lexer": "ipython3",
   "version": "3.9.7"
  }
 },
 "nbformat": 4,
 "nbformat_minor": 5
}
